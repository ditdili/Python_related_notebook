{
 "cells": [
  {
   "cell_type": "markdown",
   "metadata": {},
   "source": [
    "## Chapter 5. Array-Based Sequences - Notes\n",
    "\n",
    "P.183\n",
    "\n",
    "### 5.1 Python's Sequence Types\n",
    "\n",
    "In this chapter we explore Python's built-in sequence classes like __list__, __tuple__, and __str__. Each of them support indexing to access individual elements of a sequence, using syntax seq[k], and each uses low-level concept known as an __array__ to represent sequence.\n",
    "\n",
    "### 5.2 Low-Level Arrays\n",
    "\n",
    "Any individual byte of memory can be stored and retrieved in $O(1)$ time. In general, a programming language keeps track of the association between an identifier and the memory address in which associated value is stored. A group of related variables can be stored in a contiguous portion of the computer's memory. We will denote such a representation as an __array__. Each location - __cell__, location within array - __index__.\n",
    "\n",
    "### 5.2.1 Referential Arrays\n",
    "\n",
    "Python represents a list or tuple instance using internal storage mechanism of an array of object __references__. A single list instance may include multiple references to the same object as elements of the list, and it is possible for a single object to be an element of two or more lists, as those lists simply store references back to the object. \n",
    "\n",
    "__[Side Note](https://medium.com/@meghamohan/mutable-and-immutable-side-of-python-c2145cf72747):__ Objects of built-in types like (int, float, bool, str, tuple, unicode) are immutable. Objects of built-in types like (list, set, dict) are mutable. \n",
    "\n",
    "### 5.2.2 Compact Arrays in Python\n",
    "\n",
    "The strings are represented using an array of characters (not an array of references). We refer to this type representation as  a __compact array__. The overall memory usage for a compact structure is much lower.\n",
    "\n",
    "Constructor for the array class requires a __type code__ as a first parameter ([More Info](https://docs.python.org/3/library/array.html)) __Ex__: The type code 'i' designates an array of (signed) integers, typically represented using at least 16-bits each:"
   ]
  },
  {
   "cell_type": "code",
   "execution_count": 1,
   "metadata": {},
   "outputs": [
    {
     "data": {
      "text/plain": [
       "array('i', [2, 3, 5, 7, 11, 13, 17, 19])"
      ]
     },
     "execution_count": 1,
     "metadata": {},
     "output_type": "execute_result"
    }
   ],
   "source": [
    "from array import array\n",
    "\n",
    "primes = array('i', [2, 3, 5, 7, 11, 13, 17, 19])\n",
    "primes"
   ]
  },
  {
   "cell_type": "code",
   "execution_count": 2,
   "metadata": {},
   "outputs": [
    {
     "data": {
      "text/plain": [
       "[2, 3, 5, 7, 11, 13, 17, 19]"
      ]
     },
     "execution_count": 2,
     "metadata": {},
     "output_type": "execute_result"
    }
   ],
   "source": [
    "[i for i in primes]"
   ]
  },
  {
   "cell_type": "markdown",
   "metadata": {},
   "source": [
    "P. 192"
   ]
  }
 ],
 "metadata": {
  "kernelspec": {
   "display_name": "Python 3",
   "language": "python",
   "name": "python3"
  },
  "language_info": {
   "codemirror_mode": {
    "name": "ipython",
    "version": 3
   },
   "file_extension": ".py",
   "mimetype": "text/x-python",
   "name": "python",
   "nbconvert_exporter": "python",
   "pygments_lexer": "ipython3",
   "version": "3.6.3"
  }
 },
 "nbformat": 4,
 "nbformat_minor": 2
}
