{
 "cells": [
  {
   "cell_type": "markdown",
   "metadata": {},
   "source": [
    "## Chapter 5. Array-Based Sequences - Notes\n",
    "\n",
    "P.183\n",
    "\n",
    "### 5.1 Python's Sequence Types\n",
    "\n",
    "In this chapter we explore Python's built-in sequence classes like __list__, __tuple__, and __str__. Each of them support indexing to access individual elements of a sequence, using syntax seq[k], and each uses low-level concept known as an __array__ to represent sequence.\n",
    "\n",
    "### 5.2 Low-Level Arrays\n",
    "\n",
    "Any individual byte of memory can be stored and retrieved in $O(1)$ time. In general, a programming language keeps track of the association between an identifier and the memory address in which associated value is stored. A group of related variables can be stored in a contiguous portion of the computer's memory. We will denote such a representation as an __array__. Each location - __cell__, location within array - __index__.\n",
    "\n",
    "### 5.2.1 Referential Arrays\n",
    "\n",
    "Python represents a list or tuple instance using internal storage mechanism of an array of object __references__. A single list instance may include multiple references to the same object as elements of the list, and it is possible for a single object to be an element of two or more lists, as those lists simply store references back to the object. \n",
    "\n",
    "__[Side Note](https://medium.com/@meghamohan/mutable-and-immutable-side-of-python-c2145cf72747):__ Objects of built-in types like (int, float, bool, str, tuple, unicode) are immutable. Objects of built-in types like (list, set, dict) are mutable. \n",
    "\n",
    "### 5.2.2 Compact Arrays in Python\n",
    "\n",
    "The strings are represented using an array of characters (not an array of references). We refer to this type representation as  a __compact array__. The overall memory usage for a compact structure is much lower.\n",
    "\n",
    "Constructor for the array class requires a __type code__ as a first parameter ([More Info](https://docs.python.org/3/library/array.html)) \n",
    "\n",
    "__Ex__: The type code 'i' designates an array of (signed) integers, typically represented using at least 16-bits each:"
   ]
  },
  {
   "cell_type": "code",
   "execution_count": 1,
   "metadata": {},
   "outputs": [
    {
     "data": {
      "text/plain": [
       "array('i', [2, 3, 5, 7, 11, 13, 17, 19])"
      ]
     },
     "execution_count": 1,
     "metadata": {},
     "output_type": "execute_result"
    }
   ],
   "source": [
    "from array import array\n",
    "\n",
    "primes = array('i', [2, 3, 5, 7, 11, 13, 17, 19])\n",
    "primes"
   ]
  },
  {
   "cell_type": "code",
   "execution_count": 2,
   "metadata": {},
   "outputs": [
    {
     "data": {
      "text/plain": [
       "[2, 3, 5, 7, 11, 13, 17, 19]"
      ]
     },
     "execution_count": 2,
     "metadata": {},
     "output_type": "execute_result"
    }
   ],
   "source": [
    "[i for i in primes]"
   ]
  },
  {
   "cell_type": "markdown",
   "metadata": {},
   "source": [
    "### 5.3 Dynamic Arrays and Amortization\n",
    "\n",
    "When creating a low level array in computer system, the precise size of that array must be explicitly declared in order for the system to properly allocate a consecutive piece of memory for its storage (Pythons _tuple_ and _str_). List, on contrary, uses __dynamic array__, which allows the addition of element, with no apparent limit on the overall capacity of the list. Every time the capacity reached, the class requests more memory.\n",
    "\n",
    "__Ex:__ An experiment to explore the relationship between a list's length and its underlying size in Python. We use __getsizeof__ from [_sys_](https://docs.python.org/3/library/sys.html) module that reports number of bytes that are being used to store an object in Python:"
   ]
  },
  {
   "cell_type": "code",
   "execution_count": 3,
   "metadata": {},
   "outputs": [
    {
     "name": "stdout",
     "output_type": "stream",
     "text": [
      "Length:   0; Size in bytes:   64\n",
      "Length:   1; Size in bytes:   96\n",
      "Length:   2; Size in bytes:   96\n",
      "Length:   3; Size in bytes:   96\n",
      "Length:   4; Size in bytes:   96\n",
      "Length:   5; Size in bytes:  128\n",
      "Length:   6; Size in bytes:  128\n",
      "Length:   7; Size in bytes:  128\n",
      "Length:   8; Size in bytes:  128\n",
      "Length:   9; Size in bytes:  192\n",
      "Length:  10; Size in bytes:  192\n",
      "Length:  11; Size in bytes:  192\n",
      "Length:  12; Size in bytes:  192\n",
      "Length:  13; Size in bytes:  192\n",
      "Length:  14; Size in bytes:  192\n",
      "Length:  15; Size in bytes:  192\n",
      "Length:  16; Size in bytes:  192\n",
      "Length:  17; Size in bytes:  264\n",
      "Length:  18; Size in bytes:  264\n",
      "Length:  19; Size in bytes:  264\n"
     ]
    }
   ],
   "source": [
    "import sys\n",
    "\n",
    "data = []\n",
    "\n",
    "for k in range(20):\n",
    "    a = len(data)\n",
    "    b = sys.getsizeof(data)\n",
    "    print('Length: {0:3d}; Size in bytes: {1:4d}'.format(a, b))\n",
    "    data.append(None)"
   ]
  },
  {
   "cell_type": "markdown",
   "metadata": {},
   "source": [
    "### 5.3.1 Implementing A Dynamic Array\n",
    "\n",
    "If an element is appended to a list at a time when the array is full, we perform following steps:\n",
    "\n",
    "1. Allocate a new array B with larger capacity.\n",
    "2. Set B[i] = A[i], for i = 0,..., n-1, where n denotes current number of items.\n",
    "3. Set A = B, that is, we use B as the array supporting the list.\n",
    "4. Insert the new element in the new array.\n",
    "\n",
    "Let's implement a dynamic array as a class:"
   ]
  },
  {
   "cell_type": "code",
   "execution_count": 4,
   "metadata": {},
   "outputs": [],
   "source": [
    "import ctypes\n",
    "\n",
    "class DynamicArray:\n",
    "    \"\"\"A dynamic array class akin to simplified Python list.\"\"\"\n",
    "    \n",
    "    def __init__(self):\n",
    "        \"\"\"Create an empty array\"\"\"\n",
    "        self._n = 0\n",
    "        self._capacity = 1\n",
    "        # Low level array\n",
    "        self._A = self._make_array(self._capacity)\n",
    "        \n",
    "    def __len__(self):\n",
    "        \"\"\"Return number of elements stored in the array.\"\"\"\n",
    "        return self._n\n",
    "    \n",
    "    def __getitem__(self, k):\n",
    "        \"\"\"Return element at index k.\"\"\"\n",
    "        if not 0 <= k < self._n:\n",
    "            raise IndexError('invalid index')\n",
    "        return self._A[k]\n",
    "    \n",
    "    def append(self, obj):\n",
    "        \"\"\"Add object to end of the array\"\"\"\n",
    "        if self._n == self._capacity:\n",
    "            self._resize(2 * self._capacity)\n",
    "        self._A[self._n] = obj\n",
    "        self._n += 1\n",
    "        \n",
    "    def _resize(self, c):\n",
    "        \"\"\"Resize internal array to capacity c.\"\"\"\n",
    "        B = self._make_array(c)\n",
    "        for k in range(self._n):\n",
    "            B[k] = self._A[k]\n",
    "        self._A = B\n",
    "        self._capacity = c\n",
    "        \n",
    "    def _make_array(self, c):\n",
    "        \"\"\"Return new array with capacity c\"\"\"\n",
    "        return (c * ctypes.py_object)()"
   ]
  },
  {
   "cell_type": "markdown",
   "metadata": {},
   "source": [
    "### 5.3.2 Amortized Analysis of Dynamic Arrays\n",
    "\n"
   ]
  }
 ],
 "metadata": {
  "kernelspec": {
   "display_name": "Python 3",
   "language": "python",
   "name": "python3"
  },
  "language_info": {
   "codemirror_mode": {
    "name": "ipython",
    "version": 3
   },
   "file_extension": ".py",
   "mimetype": "text/x-python",
   "name": "python",
   "nbconvert_exporter": "python",
   "pygments_lexer": "ipython3",
   "version": "3.6.3"
  }
 },
 "nbformat": 4,
 "nbformat_minor": 2
}
